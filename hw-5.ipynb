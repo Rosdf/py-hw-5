{
 "cells": [
  {
   "cell_type": "code",
   "execution_count": null,
   "metadata": {},
   "outputs": [],
   "source": [
    "def main():\n",
    "    documents = [\n",
    "    {\"type\": \"passport\", \"number\": \"2207 876234\", \"name\": \"Василий Гупкин\"},\n",
    "    {\"type\": \"invoice\", \"number\": \"11-2\", \"name\": \"Геннадий Покемонов\"},\n",
    "    {\"type\": \"insurance\", \"number\": \"10006\", \"name\": \"Аристарх Павлов\"}\n",
    "    ]\n",
    "    directories = {\n",
    "    \"1\": [\"2207 876234\", \"11-2\"],\n",
    "    \"2\": [\"10006\"],\n",
    "    \"3\": []\n",
    "    }\n",
    "    Menu(documents, directories)"
   ]
  },
  {
   "cell_type": "code",
   "execution_count": null,
   "metadata": {},
   "outputs": [],
   "source": [
    "def Menu(documents, directories):\n",
    "    inp = \"\"\n",
    "    while inp != \"q\":\n",
    "        print(\"команды\")\n",
    "        print(\"p - узнать владельца документа по его номеру\")\n",
    "        print(\"s - узнать номер полки по номеру документа\")\n",
    "        print(\"l - полная информацию по всем документам\")\n",
    "        print(\"as - добавить новую полку\")\n",
    "        print(\"ds -  удалить существующую полку из данных\")\n",
    "        print(\"ad - добавить новый документ в данные\")\n",
    "        print(\"d - удалить документ из данных\")\n",
    "        print(\"q - выход\\n\")\n",
    "        inp = input()\n",
    "        if inp == \"p\":\n",
    "            print(\"Введите номер документа:\")\n",
    "            name = NameFromNumber(input(), documents)\n",
    "            if name:\n",
    "                print(\"Владелец документа: \", name, \"\\n\")\n",
    "            else:\n",
    "                print(\"Документ не найден в базе\\n\")\n",
    "        elif inp == \"s\":\n",
    "            print(\"Введите номер документа:\")\n",
    "            direct = DirectoriesFromNumber(input(), directories)\n",
    "            if direct:\n",
    "                print(\"Документ хранится на полке:\", direct, \"\\n\")\n",
    "            else:\n",
    "                print(\"Документ не найден в базе\\n\")\n",
    "        elif inp == \"l\":\n",
    "            AllInformation(documents, directories)\n",
    "        elif inp == \"as\":\n",
    "            print(\"Введите номер полки:\")\n",
    "            AddDirectory(input(), directories)\n",
    "        elif inp == \"ds\":\n",
    "            print(\"Введите номер полки:\")\n",
    "            DeleteDirectory(input(), directories)\n",
    "        elif inp == \"ad\":\n",
    "            document = CreateDocument(\"add\")\n",
    "            if ChekDocument(document, documents):\n",
    "                print(\"Введите полку для хранения:\")\n",
    "                directory = input()\n",
    "                AddDocument(document, documents, directory, directories)\n",
    "            else:\n",
    "                print(\"В документе найдены проблемы. Текущий список документов:\")\n",
    "                AllInformation(documents, directories)\n",
    "        elif inp == \"d\":\n",
    "            document = CreateDocument(\"del\")\n",
    "            DellDocument(document, documents, directories)\n",
    "        elif inp == \"q\":\n",
    "            print(\"quitting\")\n",
    "        else:\n",
    "            print(\"no such command\\n\")"
   ]
  },
  {
   "cell_type": "code",
   "execution_count": null,
   "metadata": {},
   "outputs": [],
   "source": [
    "def NameFromNumber(number, documents):\n",
    "    for document in documents:\n",
    "        if document[\"number\"] == number:\n",
    "            return document[\"name\"]\n",
    "    return "
   ]
  },
  {
   "cell_type": "code",
   "execution_count": null,
   "metadata": {},
   "outputs": [],
   "source": [
    "def DirectoriesFromNumber(number, directories):\n",
    "    for directory, numbers in directories.items():\n",
    "        for document in numbers:\n",
    "            if document == number:\n",
    "                return directory\n",
    "    return "
   ]
  },
  {
   "cell_type": "code",
   "execution_count": null,
   "metadata": {},
   "outputs": [],
   "source": [
    "def AllInformation(documents, directories):\n",
    "    for document in documents:\n",
    "        print(f\"№: {document['number']}, тип: {document['type']}, владелец: {document['name']}, полка хранения: {DirectoriesFromNumber(document['number'], directories)}\")\n",
    "    print(\"\") #перевод строки"
   ]
  },
  {
   "cell_type": "code",
   "execution_count": null,
   "metadata": {},
   "outputs": [],
   "source": [
    "def AddDirectory(number, directories):\n",
    "    if number in directories.keys():\n",
    "        print(\"Такая полка уже существует. Текущий перечень полок: \", end = \"\")\n",
    "        print(*directories.keys(), sep = \", \", end = \".\\n\\n\")\n",
    "    else:\n",
    "        directories[number] = []\n",
    "        print(\"Полка добавлена. Текущий перечень полок: \", end = \"\")\n",
    "        print(*directories.keys(), sep = \", \", end = \".\\n\\n\")"
   ]
  },
  {
   "cell_type": "code",
   "execution_count": null,
   "metadata": {},
   "outputs": [],
   "source": [
    "def DeleteDirectory(number, directories):\n",
    "    if number in directories.keys():\n",
    "        if len(directories[number]) == 0:\n",
    "            directories.pop(number)\n",
    "            print(\"Полка удалена. Текущий перечень полок: \", end = \"\")\n",
    "            print(*directories.keys(), sep = \", \", end = \".\\n\\n\")\n",
    "        else:\n",
    "            print(\"На полке есть документы, удалите их перед удалением полки. Текущий перечень полок: \", end = \"\")\n",
    "            print(*directories.keys(), sep = \", \", end = \".\\n\\n\")\n",
    "    else:\n",
    "        print(\"Такой полки не существует. Текущий перечень полок: \", end = \"\")\n",
    "        print(*directories.keys(), sep = \", \", end = \".\\n\\n\")"
   ]
  },
  {
   "cell_type": "code",
   "execution_count": null,
   "metadata": {},
   "outputs": [],
   "source": [
    "def CreateDocument(mode):\n",
    "    document = {}\n",
    "    if mode == \"add\":\n",
    "        print(\"Введите номер документа:\")\n",
    "        document[\"number\"] = input()\n",
    "        print(\"Введите тип документа:\")\n",
    "        document[\"type\"] = input()\n",
    "        print(\"Введите владельца документа:\")\n",
    "        document[\"name\"] = input()\n",
    "    elif mode == \"del\": # для удаления запрашивается еще тип документа на случай совпадения номеров разных документов\n",
    "        print(\"Введите номер документа:\")\n",
    "        document[\"number\"] = input()\n",
    "        print(\"Введите тип документа:\")\n",
    "        document[\"type\"] = input()\n",
    "    return document"
   ]
  },
  {
   "cell_type": "code",
   "execution_count": null,
   "metadata": {},
   "outputs": [],
   "source": [
    "def ChekDocument(document, documents):\n",
    "    if (\"type\" or \"number\" or \"name\") not in document.keys():\n",
    "        return 0\n",
    "    if len(document) > 3:\n",
    "        return 0\n",
    "    if \"\" in document.values():\n",
    "        return 0\n",
    "    if document in documents:\n",
    "        return 0\n",
    "    for doc in documents:\n",
    "        if doc[\"type\"] == document[\"type\"] and doc[\"number\"] == document[\"number\"]: #такой документ есть, но с другим именем\n",
    "            return 0\n",
    "    return 1"
   ]
  },
  {
   "cell_type": "code",
   "execution_count": null,
   "metadata": {},
   "outputs": [],
   "source": [
    "def AddDocument(document, documents, directory, directories):\n",
    "    if directory in directories.keys():\n",
    "        documents.append(document)\n",
    "        directories[directory].append(document[\"number\"])\n",
    "        print(\"Документ добавлен. Текущий список документов:\")\n",
    "        AllInformation(documents, directories)\n",
    "    else:\n",
    "        print(\"Такой полки не существует. Добавьте полку командой as.\\nТекущий список документов:\")\n",
    "        AllInformation(documents, directories)"
   ]
  },
  {
   "cell_type": "code",
   "execution_count": null,
   "metadata": {},
   "outputs": [],
   "source": [
    "def DellDocument(document, documents, directories):\n",
    "    for doc in documents:\n",
    "        if doc[\"type\"] == document[\"type\"] and doc[\"number\"] == document[\"number\"]:\n",
    "            documents.remove(doc)\n",
    "            directories[DirectoriesFromNumber(doc[\"number\"], directories)].remove(doc[\"number\"])\n",
    "            print(\"Документ удален.\\nТекущий список документов:\")\n",
    "            AllInformation(documents, directories)\n",
    "            return \n",
    "    print(\"Документ не найден в базе.\\nТекущий список документов:\")\n",
    "    AllInformation(documents, directories)"
   ]
  },
  {
   "cell_type": "code",
   "execution_count": null,
   "metadata": {},
   "outputs": [],
   "source": [
    "main()"
   ]
  }
 ],
 "metadata": {
  "kernelspec": {
   "display_name": "Python 3",
   "language": "python",
   "name": "python3"
  },
  "language_info": {
   "codemirror_mode": {
    "name": "ipython",
    "version": 3
   },
   "file_extension": ".py",
   "mimetype": "text/x-python",
   "name": "python",
   "nbconvert_exporter": "python",
   "pygments_lexer": "ipython3",
   "version": "3.8.5"
  }
 },
 "nbformat": 4,
 "nbformat_minor": 4
}
